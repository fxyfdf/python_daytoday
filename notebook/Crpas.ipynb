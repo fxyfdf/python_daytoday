{
 "cells": [
  {
   "cell_type": "code",
   "execution_count": 2,
   "metadata": {},
   "outputs": [
    {
     "name": "stdout",
     "output_type": "stream",
     "text": [
      "欢迎进入Craps游戏\n",
      "游戏规则如下：玩家第一次摇骰子如果摇出了7点或11点，玩家胜；\n",
      "玩家第一次如果摇出2点、3点或12点，庄家胜；\n",
      "其他点数玩家继续摇骰子，如果玩家摇出了7点，庄家胜；\n",
      "如果玩家摇出了第一次摇的点数，玩家胜；其他点数，玩家继续要骰子，直到分出胜负。 \n",
      "游戏开始\n"
     ]
    },
    {
     "name": "stdin",
     "output_type": "stream",
     "text": [
      "请输入本次加入筹码: 123\n"
     ]
    },
    {
     "name": "stdout",
     "output_type": "stream",
     "text": [
      "第一次点数为：10\n",
      "庄家胜利\n",
      "11111111111111111111111111111111111111111111\n",
      "剩余筹码:877\n"
     ]
    },
    {
     "name": "stdin",
     "output_type": "stream",
     "text": [
      "不继续按非 1: 123\n",
      "请输入本次加入筹码: 123\n"
     ]
    },
    {
     "name": "stdout",
     "output_type": "stream",
     "text": [
      "第一次点数为：10\n",
      "庄家胜利\n",
      "11111111111111111111111111111111111111111111\n",
      "剩余筹码:877\n"
     ]
    },
    {
     "name": "stdin",
     "output_type": "stream",
     "text": [
      "不继续按非 1: 123\n",
      "请输入本次加入筹码: 123\n"
     ]
    },
    {
     "name": "stdout",
     "output_type": "stream",
     "text": [
      "第一次点数为：10\n",
      "庄家胜利\n",
      "11111111111111111111111111111111111111111111\n",
      "剩余筹码:877\n"
     ]
    },
    {
     "name": "stdin",
     "output_type": "stream",
     "text": [
      "不继续按非 1: 123\n",
      "请输入本次加入筹码: 1\n"
     ]
    },
    {
     "name": "stdout",
     "output_type": "stream",
     "text": [
      "第一次点数为：10\n",
      "玩家胜利\n",
      "11111111111111111111111111111111111111111111\n",
      "剩余筹码:1001\n"
     ]
    },
    {
     "name": "stdin",
     "output_type": "stream",
     "text": [
      "不继续按非 1: 1\n"
     ]
    },
    {
     "name": "stdout",
     "output_type": "stream",
     "text": [
      "欢迎下次光临，您剩余筹码:1001\n",
      "                                                            \n",
      "                                                            \n",
      "                                                            \n",
      "                                                            \n",
      "                                                            \n",
      "                                                            \n",
      "                                                            \n",
      "                                                            \n",
      "                                                            \n",
      "                                                            \n",
      "                                                            \n",
      "                                                            \n",
      "                                                            \n",
      "                                                            \n",
      "                                                            \n",
      "                                                            \n",
      "                                                            \n",
      "                                                            \n",
      "                veLoveLov           veLoveLov               \n",
      "            eLoveLoveLoveLove   eLoveLoveLoveLove           \n",
      "          veLoveLoveLoveLoveLoveLoveLoveLoveLoveLov         \n",
      "         veLoveLoveLoveLoveLoveLoveLoveLoveLoveLoveL        \n",
      "        veLoveLoveLoveLoveLoveLoveLoveLoveLoveLoveLov       \n",
      "        eLoveLoveLoveLoveLoveLoveLoveLoveLoveLoveLove       \n",
      "        LoveLoveLoveLoveLoveLoveLoveLoveLoveLoveLoveL       \n",
      "        oveLoveLoveLoveLoveLoveLoveLoveLoveLoveLoveLo       \n",
      "        veLoveLoveLoveLoveLoveLoveLoveLoveLoveLoveLov       \n",
      "        eLoveLoveLoveLoveLoveLoveLoveLoveLoveLoveLove       \n",
      "         oveLoveLoveLoveLoveLoveLoveLoveLoveLoveLove        \n",
      "          eLoveLoveLoveLoveLoveLoveLoveLoveLoveLove         \n",
      "          LoveLoveLoveLoveLoveLoveLoveLoveLoveLoveL         \n",
      "            eLoveLoveLoveLoveLoveLoveLoveLoveLove           \n",
      "             oveLoveLoveLoveLoveLoveLoveLoveLove            \n",
      "              eLoveLoveLoveLoveLoveLoveLoveLove             \n",
      "                veLoveLoveLoveLoveLoveLoveLov               \n",
      "                  oveLoveLoveLoveLoveLoveLo                 \n",
      "                    LoveLoveLoveLoveLoveL                   \n",
      "                       LoveLoveLoveLov                      \n",
      "                          LoveLoveL                         \n",
      "                             Lov                            \n",
      "                              v                             \n",
      "                                                            \n",
      "                                                            \n",
      "                                                            \n",
      "                                                            \n",
      "                                                            \n",
      "                                                            \n",
      "                                                            \n",
      "                                                            \n",
      "                                                            \n",
      "                                                            \n",
      "                                                            \n",
      "                                                            \n",
      "                                                            \n",
      "                                                            \n",
      "                                                            \n",
      "                                                            \n",
      "                                                            \n",
      "                                                            \n",
      "                                                            \n"
     ]
    }
   ],
   "source": [
    "from random import randint\n",
    "# 1-6 随机生成两个数字\n",
    "jetton = 1000\n",
    "print (\"欢迎进入Craps游戏\")\n",
    "print ('''游戏规则如下：玩家第一次摇骰子如果摇出了7点或11点，玩家胜；\n",
    "玩家第一次如果摇出2点、3点或12点，庄家胜；\n",
    "其他点数玩家继续摇骰子，如果玩家摇出了7点，庄家胜；\n",
    "如果玩家摇出了第一次摇的点数，玩家胜；其他点数，玩家继续要骰子，直到分出胜负。 ''')\n",
    "\n",
    "first = randint(1,6) + randint(1,6)\n",
    "# 加入筹码：\n",
    "print(\"游戏开始\")\n",
    "#先无赌注，单纯得逻辑\n",
    "\n",
    "is_true = 2\n",
    "while is_true != 1:\n",
    "    # pass\n",
    "\n",
    "    debt = int(input(\"请输入本次加入筹码:\"))\n",
    "    print(\"第一次点数为：%d\" % (first))\n",
    "    if first == 11 or first == 7:\n",
    "        jetton_new = jetton + debt\n",
    "        print(\"玩家胜利\")\n",
    "    elif first == 2 or first == 3 or first == 12:\n",
    "        print(\"庄家胜利\")\n",
    "        jetton_new = jetton - debt\n",
    "    else:\n",
    "        while True:\n",
    "            first2 = randint(1, 6) + randint(1, 6)\n",
    "            if first2 == 7:\n",
    "                jetton_new = jetton - debt\n",
    "                print (\"庄家胜利\")\n",
    "                break;\n",
    "            elif first == first2:\n",
    "                jetton_new = jetton + debt\n",
    "                print(\"玩家胜利\")\n",
    "                break;\n",
    "            else:\n",
    "                continue;\n",
    "        print (\"11111111111111111111111111111111111111111111\")\n",
    "    if debt == 8 : \n",
    "        print('\\n'.join([''.join([('Love'[(x-y) % len('Love')] if ((x*0.05)**2+(y*0.1)**2-1)**3-(x*0.05)**2*(y*0.1)**3 <= 0 else ' ') for x in range(-30, 30)]) for y in range(30, -30, -1)]))\n",
    "    else:\n",
    "        pass \n",
    "\n",
    "    print (\"剩余筹码:%d\" % (jetton_new))\n",
    "    is_true = int(input(\"不继续按非 1:\"))\n",
    "print (\"欢迎下次光临，您剩余筹码:%d\" % (jetton_new))\n",
    "print('\\n'.join([''.join([('Love'[(x-y) % len('Love')] if ((x*0.05)**2+(y*0.1)**2-1)**3-(x*0.05)**2*(y*0.1)**3 <= 0 else ' ') for x in range(-30, 30)]) for y in range(30, -30, -1)]))\n",
    "\n",
    "\n"
   ]
  },
  {
   "cell_type": "code",
   "execution_count": null,
   "metadata": {},
   "outputs": [],
   "source": []
  },
  {
   "cell_type": "code",
   "execution_count": null,
   "metadata": {},
   "outputs": [],
   "source": []
  },
  {
   "cell_type": "code",
   "execution_count": null,
   "metadata": {},
   "outputs": [],
   "source": []
  }
 ],
 "metadata": {
  "kernelspec": {
   "display_name": "Python 3",
   "language": "python",
   "name": "python3"
  },
  "language_info": {
   "codemirror_mode": {
    "name": "ipython",
    "version": 3
   },
   "file_extension": ".py",
   "mimetype": "text/x-python",
   "name": "python",
   "nbconvert_exporter": "python",
   "pygments_lexer": "ipython3",
   "version": "3.7.1"
  }
 },
 "nbformat": 4,
 "nbformat_minor": 2
}
