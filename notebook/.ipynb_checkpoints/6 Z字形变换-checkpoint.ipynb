{
 "cells": [
  {
   "cell_type": "markdown",
   "metadata": {},
   "source": [
    "问题描述：\n",
    "将一个给定字符串根据给定的行数，以从上往下、从左到右进行 Z 字形排列。\n",
    "\n",
    "比如输入字符串为 \"LEETCODEISHIRING\" 行数为 3 时，排列如下：\n",
    "```shell\n",
    "L   C   I   R\n",
    "E  T O  E S  I I G\n",
    "E   D   H   N\n",
    "LEETCODEISHIRING\n",
    "从左 向右输出为:\n",
    "LCIR   ETOESIIG  EDHN\n",
    "\n",
    "1   5   9    13   17   21\n",
    "2 4  6 8  10 12 14 16 18 20 22\n",
    "3   7   11   15   19   23\n",
    "\n",
    "\n",
    "n=4\n",
    "1   7      13    19    25\n",
    "2  6 8   12  14  18 20  24 26\n",
    "3 5  9  11   15 17  21 23  27\n",
    "4   10     16    22    28 \n",
    "4 1 1 4 1 1   4 1 1 4  1 1 4\n",
    "第一组： 6 \n",
    "n+(n-2)\n",
    "len/(n+(n-2)) 向上取整，获取到第一行最后一个数字下标\n",
    "\n",
    "\n",
    "\n",
    "n=4 时 一共排多少列：\n",
    "len(str=28) \n",
    "5\n",
    "9\n",
    "9\n",
    "5\n",
    "\n",
    "\n",
    "\n",
    "```"
   ]
  },
  {
   "cell_type": "code",
   "execution_count": null,
   "metadata": {},
   "outputs": [],
   "source": []
  },
  {
   "cell_type": "code",
   "execution_count": null,
   "metadata": {},
   "outputs": [],
   "source": []
  },
  {
   "cell_type": "code",
   "execution_count": null,
   "metadata": {},
   "outputs": [],
   "source": []
  },
  {
   "cell_type": "markdown",
   "metadata": {},
   "source": [
    "执行用时 :64 ms, 在所有 Python3 提交中击败了99.74%的用户\n",
    "由题目可知 我们的最终字符串会被摆成 numRows 行,那我们理解为 最终结果是numRows个字符串相加\n",
    "\n",
    "先建立等于numRows行数的空字符串,然后按顺序向字符串中添加字符,\n",
    "核心思想是\n",
    "一次完整的变换中,总共会使用 2*numRows-2个字符, 先使用了numRows个字符向下排列,即共numRows行, 每一行都按顺序加入一个字符,\n",
    "然后 剩下还有 numRows-2个字符 从下往上添加入每一行,\n",
    "\n",
    "接下来 持续用while 将整个流程包裹,完成所有字符行数变换,最后将numRows行数的各字符串拼接即可输出为答案.\n",
    "\n",
    "作者：darede\n",
    "链接：https://leetcode-cn.com/problems/zigzag-conversion/solution/6-zzi-bian-huan-python3-an-xing-qu-zhi-by-darede/\n",
    "来源：力扣（LeetCode）\n",
    "著作权归作者所有。商业转载请联系作者获得授权，非商业转载请注明出处。"
   ]
  },
  {
   "cell_type": "code",
   "execution_count": 1,
   "metadata": {},
   "outputs": [],
   "source": [
    "class Solution:\n",
    "    def convert(self, s, numRows):\n",
    "        if not numRows > 1:\n",
    "            return s\n",
    "        if numRows == 2:\n",
    "            s1 = s[::2]\n",
    "            s2 = s[1::2]\n",
    "            s3 = s1 + s2\n",
    "\n",
    "            return s3\n",
    "        s_Initialize = [''] * numRows\n",
    "        # print(s_row)\n",
    "        i = 0\n",
    "        n = len(s)\n",
    "        while i < n:\n",
    "            for count_columns in range(numRows):\n",
    "                if i < n:\n",
    "                    s_Initialize[count_columns] += s[i]  # 这里进行了将numRows个字符从上往下安置入每一行\n",
    "                    # print(s_row)\n",
    "                    i += 1\n",
    "            # print(s_row)\n",
    "            for count_Rows in range(numRows - 2, 0, -1):  # 这里进行了将numRows-2个字符从下往上安置入每一行\n",
    "                if i < n:\n",
    "                    s_Initialize[count_Rows] += s[i]\n",
    "                    i += 1\n",
    "        return ''.join(s_Initialize)\n",
    "\n"
   ]
  },
  {
   "cell_type": "code",
   "execution_count": 8,
   "metadata": {},
   "outputs": [],
   "source": [
    "z_str=Solution()"
   ]
  },
  {
   "cell_type": "code",
   "execution_count": 9,
   "metadata": {},
   "outputs": [],
   "source": [
    "str='LEETCODEISHIRING'\n",
    "#numRows=3\n",
    "z=z_str.convert(str,3)"
   ]
  },
  {
   "cell_type": "code",
   "execution_count": 10,
   "metadata": {},
   "outputs": [
    {
     "name": "stdout",
     "output_type": "stream",
     "text": [
      "LCIRETOESIIGEDHN\n"
     ]
    }
   ],
   "source": [
    "print (z)"
   ]
  },
  {
   "cell_type": "code",
   "execution_count": null,
   "metadata": {},
   "outputs": [],
   "source": []
  }
 ],
 "metadata": {
  "kernelspec": {
   "display_name": "Python 3",
   "language": "python",
   "name": "python3"
  },
  "language_info": {
   "codemirror_mode": {
    "name": "ipython",
    "version": 3
   },
   "file_extension": ".py",
   "mimetype": "text/x-python",
   "name": "python",
   "nbconvert_exporter": "python",
   "pygments_lexer": "ipython3",
   "version": "3.7.1"
  }
 },
 "nbformat": 4,
 "nbformat_minor": 2
}
