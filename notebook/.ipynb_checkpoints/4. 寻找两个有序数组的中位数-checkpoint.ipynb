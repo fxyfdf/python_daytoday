{
 "cells": [
  {
   "cell_type": "markdown",
   "metadata": {},
   "source": [
    "### 描述\n",
    "给定两个大小为 m 和 n 的有序数组 nums1 和 nums2。\n",
    "\n",
    "请你找出这两个有序数组的中位数，并且要求算法的时间复杂度为 O(log(m + n))。\n",
    "\n",
    "你可以假设 nums1 和 nums2 不会同时为空。\n",
    "\n",
    "\n",
    "例：\n",
    "nums1 = [1, 2]\n",
    "nums2 = [3, 4]\n",
    "\n",
    "则中位数是 (2 + 3)/2 = 2.5"
   ]
  },
  {
   "cell_type": "code",
   "execution_count": 24,
   "metadata": {},
   "outputs": [
    {
     "name": "stdout",
     "output_type": "stream",
     "text": [
      "1\n",
      "1\n",
      "3\n"
     ]
    }
   ],
   "source": [
    "num1 = [1,2]  # 可能是一个或多个\n",
    "num2 = [5,4,3]  # 可能是一个或多个\n",
    "\n",
    "#1 合并两个数组\n",
    "num = num1 + num2\n",
    "#2 排序\n",
    "num.sort()\n",
    "#3 偶数个时找出中间两个，奇数个时 输出中间数\n",
    "num_index = len(num)\n",
    "if num_index % 2 == 0 :\n",
    "    z = (num[int(num_index/2)] + num[int(num_index/2-1)] / 2)\n",
    "else:\n",
    "    print('1')\n",
    "    z = (num[int(num_index/2)])\n"
   ]
  },
  {
   "cell_type": "code",
   "execution_count": null,
   "metadata": {},
   "outputs": [],
   "source": [
    "提交代码"
   ]
  },
  {
   "cell_type": "code",
   "execution_count": 42,
   "metadata": {},
   "outputs": [],
   "source": [
    "class Solution:\n",
    "    #def findMedianSortedArrays(self, nums1: List[int], nums2: List[int]) -> float:\n",
    "    def findMedianSortedArrays(self, nums1, nums2) -> float:\n",
    "    \n",
    "        num1 = nums1  # 可能是一个或多个\n",
    "        num2 = nums2  # 可能是一个或多个\n",
    "\n",
    "        #1 合并两个数组\n",
    "        num = num1 + num2\n",
    "        #2 排序\n",
    "        num.sort()\n",
    "        #3 偶数个时找出中间两个，奇数个时 输出中间数\n",
    "        num_index = len(num)\n",
    "        if num_index % 2 == 0 :\n",
    "            print(2)\n",
    "            print(num[int(num_index/2)])\n",
    "            print(num[int((num_index/2)-1)])\n",
    "            z = ((num[int(num_index/2)] + num[int((num_index/2)-1)]) / 2)\n",
    "        else:\n",
    "            print(1)\n",
    "            z = (num[int(num_index/2)])\n",
    "        return (z)"
   ]
  },
  {
   "cell_type": "code",
   "execution_count": 43,
   "metadata": {},
   "outputs": [],
   "source": [
    "num1 = [1,2]  # 可能是一个或多个\n",
    "num2 = [3,4]  # 可能是一个或多个\n",
    "a = Solution()\n"
   ]
  },
  {
   "cell_type": "code",
   "execution_count": 44,
   "metadata": {},
   "outputs": [
    {
     "name": "stdout",
     "output_type": "stream",
     "text": [
      "2\n",
      "3\n",
      "2\n",
      "2.5\n"
     ]
    }
   ],
   "source": [
    "b=a.findMedianSortedArrays(num1,num2)\n",
    "print (b)"
   ]
  },
  {
   "cell_type": "markdown",
   "metadata": {},
   "source": [
    "### 合并两个数组方法：\n",
    "1.extend方法\n",
    "c1 = [\"Red\",\"Green\",\"Blue\"]\n",
    "c2 = [\"Orange\",\"Yellow\",\"Indigo\"]\n",
    "c1.extend(c2)\n",
    "c1 == [\"Red\",\"Green\",\"Blue\",\"Orange\",\"Yellow\",\"Indigo\"]\n",
    "\n",
    "2.直接相加\n",
    "c1 = [\"Red\",\"Green\",\"Blue\"]\n",
    "c2 = [\"Orange\",\"Yellow\",\"Indigo\"]\n",
    "c3 = c1 + c2\n",
    "c3 == [\"Red\",\"Green\",\"Blue\",\"Orange\",\"Yellow\",\"Indigo\"]\n",
    "\n",
    "3.flatten\n",
    "a = [[1,3],[2,4],[3,5]]\n",
    "a = array(a)\n",
    "a.flatten()\n",
    "array([1, 3, 2, 4, 3, 5])\n",
    "\n",
    "### 数组排序\n",
    "sorted()与list.sort()的不同\n",
    "　　1）list.sort() 方法返回none，sorted()返回结果\n",
    "　　2）list.sort() 方法只可以供列表使用，而 sorted() 函数可以接受任意可迭代对象（iterable）\n",
    "sort 改变源数组， sorted 不改变原数组\n",
    "排序方法：\n",
    "https://www.cnblogs.com/xnwjx/p/8352676.html\n"
   ]
  }
 ],
 "metadata": {
  "kernelspec": {
   "display_name": "Python 3",
   "language": "python",
   "name": "python3"
  },
  "language_info": {
   "codemirror_mode": {
    "name": "ipython",
    "version": 3
   },
   "file_extension": ".py",
   "mimetype": "text/x-python",
   "name": "python",
   "nbconvert_exporter": "python",
   "pygments_lexer": "ipython3",
   "version": "3.7.1"
  }
 },
 "nbformat": 4,
 "nbformat_minor": 2
}
