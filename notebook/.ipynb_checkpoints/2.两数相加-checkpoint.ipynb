{
 "cells": [
  {
   "cell_type": "markdown",
   "metadata": {},
   "source": [
    "### 两数相加"
   ]
  },
  {
   "cell_type": "markdown",
   "metadata": {},
   "source": [
    "给出两个 非空 的链表用来表示两个非负的整数。其中，它们各自的位数是按照 逆序 的方式存储的，并且它们的每个节点只能存储 一位 数字。\n",
    "\n",
    "如果，我们将这两个数相加起来，则会返回一个新的链表来表示它们的和。\n",
    "\n",
    "您可以假设除了数字 0 之外，这两个数都不会以 0 开头。\n",
    "\n",
    "\n",
    "解析： \n",
    "两个数组相加，数组内的每个元素都是个位数字。\n",
    "例如：\n",
    "342+465=807\n",
    "运算过程为：\n",
    "[2,4,3]+[5,6,4]=[7,0,8]\n",
    "\n",
    "\n",
    "来源：力扣（LeetCode）\n",
    "链接：https://leetcode-cn.com/problems/add-two-numbers\n",
    "著作权归领扣网络所有。商业转载请联系官方授权，非商业转载请注明出处。"
   ]
  },
  {
   "cell_type": "markdown",
   "metadata": {},
   "source": [
    "### 样例："
   ]
  },
  {
   "cell_type": "code",
   "execution_count": 7,
   "metadata": {},
   "outputs": [
    {
     "ename": "SyntaxError",
     "evalue": "invalid syntax (<ipython-input-7-fbc599d0fa21>, line 1)",
     "output_type": "error",
     "traceback": [
      "\u001b[1;36m  File \u001b[1;32m\"<ipython-input-7-fbc599d0fa21>\"\u001b[1;36m, line \u001b[1;32m1\u001b[0m\n\u001b[1;33m    lass Solution:\u001b[0m\n\u001b[1;37m                ^\u001b[0m\n\u001b[1;31mSyntaxError\u001b[0m\u001b[1;31m:\u001b[0m invalid syntax\n"
     ]
    }
   ],
   "source": [
    "lass Solution:\n",
    "    def addTwoNumbers(self, l1: ListNode, l2: ListNode) -> ListNode:\n",
    "        flag = 0\n",
    "        out = r = ListNode(0)\n",
    "        while l1 is not None and l2 is not None:\n",
    "            temp = l1.val + l2.val + flag\n",
    "            if temp >= 10:\n",
    "                flag = 1\n",
    "                p = temp - 10\n",
    "            else:\n",
    "                flag = 0\n",
    "                p = temp\n",
    "            l1 = l1.next\n",
    "            l2 = l2.next\n",
    "            r.next = ListNode(p)\n",
    "            r = r.next\n",
    "        while l1 is not None:\n",
    "            temp = l1.val + flag\n",
    "            if temp >= 10:\n",
    "                flag = 1\n",
    "                p = temp - 10\n",
    "            else:\n",
    "                flag = 0\n",
    "                p = temp\n",
    "            l1 = l1.next\n",
    "            r.next = ListNode(p)\n",
    "            r = r.next\n",
    "        while l2 is not None:\n",
    "            temp = l2.val + flag\n",
    "            if temp >= 10:\n",
    "                flag = 1\n",
    "                p = temp - 10\n",
    "            else:\n",
    "                flag = 0\n",
    "                p = temp\n",
    "            l2 = l2.next\n",
    "            r.next = ListNode(p)\n",
    "            r = r.next\n",
    "        if flag:\n",
    "            r.next = ListNode(1)\n",
    "        out = out.next\n",
    "        return out"
   ]
  },
  {
   "cell_type": "code",
   "execution_count": 6,
   "metadata": {},
   "outputs": [
    {
     "ename": "NameError",
     "evalue": "name 'ListNode' is not defined",
     "output_type": "error",
     "traceback": [
      "\u001b[1;31m---------------------------------------------------------------------------\u001b[0m",
      "\u001b[1;31mNameError\u001b[0m                                 Traceback (most recent call last)",
      "\u001b[1;32m<ipython-input-6-2e24897f93e2>\u001b[0m in \u001b[0;36m<module>\u001b[1;34m\u001b[0m\n\u001b[0;32m      1\u001b[0m \u001b[1;31m# 输入为两个列表\u001b[0m\u001b[1;33m\u001b[0m\u001b[1;33m\u001b[0m\u001b[1;33m\u001b[0m\u001b[0m\n\u001b[1;32m----> 2\u001b[1;33m \u001b[1;32mdef\u001b[0m \u001b[0maddTwoNumbers\u001b[0m\u001b[1;33m(\u001b[0m\u001b[0mself\u001b[0m\u001b[1;33m,\u001b[0m \u001b[0ml1\u001b[0m\u001b[1;33m:\u001b[0m \u001b[0mListNode\u001b[0m\u001b[1;33m,\u001b[0m \u001b[0ml2\u001b[0m\u001b[1;33m:\u001b[0m \u001b[0mListNode\u001b[0m\u001b[1;33m)\u001b[0m \u001b[1;33m->\u001b[0m \u001b[0mListNode\u001b[0m\u001b[1;33m:\u001b[0m\u001b[1;33m\u001b[0m\u001b[1;33m\u001b[0m\u001b[0m\n\u001b[0m\u001b[0;32m      3\u001b[0m     \u001b[1;31m# 标记，默认为0，需要进位时+1\u001b[0m\u001b[1;33m\u001b[0m\u001b[1;33m\u001b[0m\u001b[1;33m\u001b[0m\u001b[0m\n\u001b[0;32m      4\u001b[0m     \u001b[0mflag\u001b[0m \u001b[1;33m=\u001b[0m \u001b[1;36m0\u001b[0m\u001b[1;33m\u001b[0m\u001b[1;33m\u001b[0m\u001b[0m\n\u001b[0;32m      5\u001b[0m     \u001b[0mout\u001b[0m \u001b[1;33m=\u001b[0m \u001b[0mr\u001b[0m \u001b[1;33m=\u001b[0m \u001b[0mListNode\u001b[0m\u001b[1;33m(\u001b[0m\u001b[1;36m0\u001b[0m\u001b[1;33m)\u001b[0m\u001b[1;33m\u001b[0m\u001b[1;33m\u001b[0m\u001b[0m\n",
      "\u001b[1;31mNameError\u001b[0m: name 'ListNode' is not defined"
     ]
    }
   ],
   "source": [
    "# 输入为两个列表\n",
    "def addTwoNumbers(self, l1: ListNode, l2: ListNode) -> ListNode:\n",
    "    # 标记，默认为0，需要进位时+1\n",
    "    flag = 0\n",
    "    out = r = ListNode(0)\n",
    "    while l1 is not None and l2 is not None:\n",
    "        temp = l1.val + l2.val + flag\n",
    "        if temp >= 10:\n",
    "            flag = 1\n",
    "            p = temp - 10\n",
    "        else:\n",
    "            flag = 0\n",
    "            p = temp\n",
    "        l1 = l1.next\n",
    "        l2 = l2.next\n",
    "        r.next = ListNode(p)\n",
    "        r = r.next\n",
    "    while l1 is not None:\n",
    "        temp = l1.val + flag\n",
    "        if temp >= 10:\n",
    "            flag = 1\n",
    "            p = temp - 10\n",
    "        else:\n",
    "            flag = 0\n",
    "            p = temp\n",
    "        l1 = l1.next\n",
    "        r.next = ListNode(p)\n",
    "        r = r.next\n",
    "    while l2 is not None:\n",
    "        temp = l2.val + flag\n",
    "        if temp >= 10:\n",
    "            flag = 1\n",
    "            p = temp - 10\n",
    "        else:\n",
    "            flag = 0\n",
    "            p = temp\n",
    "        l2 = l2.next\n",
    "        r.next = ListNode(p)\n",
    "        r = r.next\n",
    "    if flag:\n",
    "        r.next = ListNode(1)\n",
    "    out = out.next\n",
    "    return out"
   ]
  },
  {
   "cell_type": "code",
   "execution_count": 1,
   "metadata": {},
   "outputs": [],
   "source": [
    "class Solution:\n",
    "    def addTwoNumbers(self, l1, l2):\n",
    "        \"\"\"\n",
    "        :type l1: ListNode\n",
    "        :type l2: ListNode\n",
    "        :rtype: ListNode\n",
    "        \"\"\"\n",
    "        re = ListNode(0)\n",
    "        r=re\n",
    "        carry=0\n",
    "        while(l1 or l2):\n",
    "            x= l1.val if l1 else 0\n",
    "            y= l2.val if l2 else 0\n",
    "            s=carry+x+y\n",
    "            carry=s//10\n",
    "            r.next=ListNode(s%10)\n",
    "            r=r.next\n",
    "            if(l1!=None):l1=l1.next\n",
    "            if(l2!=None):l2=l2.next\n",
    "        if(carry>0):\n",
    "            r.next=ListNode(1)\n",
    "        return re.next\n",
    "\n",
    "    \n",
    "\n",
    "    "
   ]
  },
  {
   "cell_type": "code",
   "execution_count": 4,
   "metadata": {},
   "outputs": [],
   "source": [
    "l1=[1,2]\n",
    "l2=[1,2]\n",
    "a=Solution()\n",
    "\n"
   ]
  },
  {
   "cell_type": "code",
   "execution_count": 5,
   "metadata": {},
   "outputs": [
    {
     "ename": "NameError",
     "evalue": "name 'ListNode' is not defined",
     "output_type": "error",
     "traceback": [
      "\u001b[1;31m---------------------------------------------------------------------------\u001b[0m",
      "\u001b[1;31mNameError\u001b[0m                                 Traceback (most recent call last)",
      "\u001b[1;32m<ipython-input-5-a138510a4621>\u001b[0m in \u001b[0;36m<module>\u001b[1;34m\u001b[0m\n\u001b[1;32m----> 1\u001b[1;33m \u001b[0mb\u001b[0m\u001b[1;33m=\u001b[0m\u001b[0ma\u001b[0m\u001b[1;33m.\u001b[0m\u001b[0maddTwoNumbers\u001b[0m\u001b[1;33m(\u001b[0m\u001b[0ml1\u001b[0m\u001b[1;33m,\u001b[0m\u001b[0ml2\u001b[0m\u001b[1;33m)\u001b[0m\u001b[1;33m\u001b[0m\u001b[1;33m\u001b[0m\u001b[0m\n\u001b[0m",
      "\u001b[1;32m<ipython-input-1-eded91799525>\u001b[0m in \u001b[0;36maddTwoNumbers\u001b[1;34m(self, l1, l2)\u001b[0m\n\u001b[0;32m      6\u001b[0m         \u001b[1;33m:\u001b[0m\u001b[0mrtype\u001b[0m\u001b[1;33m:\u001b[0m \u001b[0mListNode\u001b[0m\u001b[1;33m\u001b[0m\u001b[1;33m\u001b[0m\u001b[0m\n\u001b[0;32m      7\u001b[0m         \"\"\"\n\u001b[1;32m----> 8\u001b[1;33m         \u001b[0mre\u001b[0m \u001b[1;33m=\u001b[0m \u001b[0mListNode\u001b[0m\u001b[1;33m(\u001b[0m\u001b[1;36m0\u001b[0m\u001b[1;33m)\u001b[0m\u001b[1;33m\u001b[0m\u001b[1;33m\u001b[0m\u001b[0m\n\u001b[0m\u001b[0;32m      9\u001b[0m         \u001b[0mr\u001b[0m\u001b[1;33m=\u001b[0m\u001b[0mre\u001b[0m\u001b[1;33m\u001b[0m\u001b[1;33m\u001b[0m\u001b[0m\n\u001b[0;32m     10\u001b[0m         \u001b[0mcarry\u001b[0m\u001b[1;33m=\u001b[0m\u001b[1;36m0\u001b[0m\u001b[1;33m\u001b[0m\u001b[1;33m\u001b[0m\u001b[0m\n",
      "\u001b[1;31mNameError\u001b[0m: name 'ListNode' is not defined"
     ]
    }
   ],
   "source": [
    "b=a.addTwoNumbers(l1,l2)"
   ]
  },
  {
   "cell_type": "code",
   "execution_count": 3,
   "metadata": {},
   "outputs": [],
   "source": [
    "class Solution(object):\n",
    "    def addTwoNumbers(self, l1, l2):\n",
    "        target = ListNode(0)   # 作为根节点的引用\n",
    "        p = target\n",
    "        add = 0    # 作为上一次相加是否需要进1的依据\n",
    "        while l1 and l2:\n",
    "            p.next = ListNode((l1.val+l2.val+add)%10)\n",
    "            add = (l1.val+l2.val+add)//10\n",
    "            p, l1, l2 = p.next, l1.next, l2.next\n",
    "        l1 = l1 if l1 else l2\n",
    "        while add:\n",
    "            if l1:\n",
    "                p.next = ListNode((l1.val+add)%10)\n",
    "                add = (l1.val+add)//10\n",
    "                p, l1 = p.next, l1.next\n",
    "            else:\n",
    "                p.next = ListNode(add)\n",
    "                p = p.next\n",
    "                break\n",
    "        p.next = l1 \n",
    "        \n",
    "        return target.next\n",
    "\n"
   ]
  },
  {
   "cell_type": "code",
   "execution_count": 4,
   "metadata": {},
   "outputs": [],
   "source": [
    "aa = Solution()\n"
   ]
  },
  {
   "cell_type": "code",
   "execution_count": 5,
   "metadata": {},
   "outputs": [
    {
     "ename": "TypeError",
     "evalue": "addTwoNumbers() missing 2 required positional arguments: 'l1' and 'l2'",
     "output_type": "error",
     "traceback": [
      "\u001b[1;31m---------------------------------------------------------------------------\u001b[0m",
      "\u001b[1;31mTypeError\u001b[0m                                 Traceback (most recent call last)",
      "\u001b[1;32m<ipython-input-5-38a3324f9dbe>\u001b[0m in \u001b[0;36m<module>\u001b[1;34m\u001b[0m\n\u001b[1;32m----> 1\u001b[1;33m \u001b[0maa\u001b[0m\u001b[1;33m.\u001b[0m\u001b[0maddTwoNumbers\u001b[0m\u001b[1;33m(\u001b[0m\u001b[1;33m)\u001b[0m\u001b[1;33m\u001b[0m\u001b[1;33m\u001b[0m\u001b[0m\n\u001b[0m",
      "\u001b[1;31mTypeError\u001b[0m: addTwoNumbers() missing 2 required positional arguments: 'l1' and 'l2'"
     ]
    }
   ],
   "source": [
    "l1=[1,2,3]\n",
    "l2=\n",
    "aa.addTwoNumbers()"
   ]
  },
  {
   "cell_type": "code",
   "execution_count": null,
   "metadata": {},
   "outputs": [],
   "source": []
  },
  {
   "cell_type": "code",
   "execution_count": null,
   "metadata": {},
   "outputs": [],
   "source": []
  },
  {
   "cell_type": "code",
   "execution_count": null,
   "metadata": {},
   "outputs": [],
   "source": []
  },
  {
   "cell_type": "code",
   "execution_count": null,
   "metadata": {},
   "outputs": [],
   "source": []
  },
  {
   "cell_type": "code",
   "execution_count": null,
   "metadata": {},
   "outputs": [],
   "source": [
    "class Solution:\n",
    "    def addTwoNumbers(self, l1: ListNode, l2: ListNode) -> ListNode:\n",
    "        flag = 0\n",
    "        out = r = ListNode(0)\n",
    "        while l1 is not None and l2 is not None:\n",
    "            temp = l1.val + l2.val + flag\n",
    "            if temp >= 10:\n",
    "                flag = 1\n",
    "                p = temp - 10\n",
    "            else:\n",
    "                flag = 0\n",
    "                p = temp\n",
    "            l1 = l1.next\n",
    "            l2 = l2.next\n",
    "            r.next = ListNode(p)\n",
    "            r = r.next\n",
    "        while l1 is not None:\n",
    "            temp = l1.val + flag\n",
    "            if temp >= 10:\n",
    "                flag = 1\n",
    "                p = temp - 10\n",
    "            else:\n",
    "                flag = 0\n",
    "                p = temp\n",
    "            l1 = l1.next\n",
    "            r.next = ListNode(p)\n",
    "            r = r.next\n",
    "        while l2 is not None:\n",
    "            temp = l2.val + flag\n",
    "            if temp >= 10:\n",
    "                flag = 1\n",
    "                p = temp - 10\n",
    "            else:\n",
    "                flag = 0\n",
    "                p = temp\n",
    "            l2 = l2.next\n",
    "            r.next = ListNode(p)\n",
    "            r = r.next\n",
    "        if flag:\n",
    "            r.next = ListNode(1)\n",
    "        out = out.next\n",
    "        return out\n",
    "\n"
   ]
  }
 ],
 "metadata": {
  "kernelspec": {
   "display_name": "Python 3",
   "language": "python",
   "name": "python3"
  },
  "language_info": {
   "codemirror_mode": {
    "name": "ipython",
    "version": 3
   },
   "file_extension": ".py",
   "mimetype": "text/x-python",
   "name": "python",
   "nbconvert_exporter": "python",
   "pygments_lexer": "ipython3",
   "version": "3.7.1"
  }
 },
 "nbformat": 4,
 "nbformat_minor": 2
}
