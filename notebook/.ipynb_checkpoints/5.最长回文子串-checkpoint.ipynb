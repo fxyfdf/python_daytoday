{
 "cells": [
  {
   "cell_type": "markdown",
   "metadata": {},
   "source": [
    "###  描述\n",
    "\n",
    "给定一个字符串 s，找到 s 中最长的回文子串。你可以假设 s 的最大长度为 1000。\n",
    "\n",
    "示例 1：\n",
    "\n",
    "输入: \"babad\"\n",
    "输出: \"bab\"\n",
    "注意: \"aba\" 也是一个有效答案。\n",
    "\n",
    "示例 2：\n",
    "\n",
    "输入: \"cbbd\"\n",
    "输出: \"bb\"\n",
    "123\n",
    "1\n",
    "12\n",
    "123\n",
    "2\n",
    "23\n",
    "3\n",
    "\n",
    "\n",
    "什么好是回文？\n",
    "一个字符串正读取和反独取都一样。\n",
    "1 判断一个字符是否是回文\n",
    "2 给出的字符串可以分割成多少个字符，一次判断是否是回文\n",
    "3 字符串分割： \n",
    "\n",
    "字符串分割，连续的字符串进行分割，分割的个数\n",
    "1，2，3，4，5 .. len(str)\n",
    "\n"
   ]
  },
  {
   "cell_type": "markdown",
   "metadata": {},
   "source": [
    "1 遍历所有字符\n",
    "存入： \n",
    "str = 'babad'\n",
    "str1=[]\n",
    "for i in str:\n",
    "    if i in str1:\n",
    "    \n",
    "    else:\n",
    "       str1.append(i)\n",
    "       \n",
    " \n",
    "\n",
    "\n",
    "\n"
   ]
  },
  {
   "cell_type": "code",
   "execution_count": 2,
   "metadata": {},
   "outputs": [],
   "source": [
    "str = 'adfsdfdd'"
   ]
  },
  {
   "cell_type": "code",
   "execution_count": 3,
   "metadata": {},
   "outputs": [
    {
     "name": "stdout",
     "output_type": "stream",
     "text": [
      "8\n",
      "range(0, 8)\n"
     ]
    }
   ],
   "source": [
    "str_num = len(str)\n",
    "str_list = range(str_num)\n",
    "print(str_num)\n",
    "print(str_list)"
   ]
  },
  {
   "cell_type": "code",
   "execution_count": 22,
   "metadata": {},
   "outputs": [
    {
     "name": "stdout",
     "output_type": "stream",
     "text": [
      "asdf1fdsa\n"
     ]
    }
   ],
   "source": [
    "# 判断是否数回文\n",
    "str1 = 'asdf1fdsa'\n",
    "string = list(str1)\n",
    "length = len(string)\n",
    "#起始\n",
    "left = 0\n",
    "#终止\n",
    "right = length - 1\n",
    "\n",
    "while left < right:\n",
    "    if string[left] != string[right]:\n",
    "        print('不是回文')\n",
    "        is_huiwen=False\n",
    "        break\n",
    "        #return False\n",
    "    left +=1\n",
    "    right -=1\n",
    "print (str1)\n",
    "#return True\n"
   ]
  },
  {
   "cell_type": "code",
   "execution_count": null,
   "metadata": {},
   "outputs": [],
   "source": []
  },
  {
   "cell_type": "code",
   "execution_count": 17,
   "metadata": {},
   "outputs": [
    {
     "name": "stdout",
     "output_type": "stream",
     "text": [
      "4\n",
      "3\n",
      "2\n",
      "1\n",
      "sss\n"
     ]
    }
   ],
   "source": [
    "# 暴力破解，枚举所有的子串，对每个子串判断是否为回文， 时间复杂度为 O(n^3)\n",
    "str = 'sssss'\n",
    "s = list(str)\n",
    "l = len(s)\n",
    "# 创建一个 l*l 维矩阵\n",
    "dp = [[0] * l for i in range(l)]\n",
    "# [[0, 0, 0, 0, 0], [0, 0, 0, 0, 0], [0, 0, 0, 0, 0], [0, 0, 0, 0, 0], [0, 0, 0, 0, 0]]\n",
    "\n",
    "#print (dp)\n",
    "\n",
    "# l*l 维数组 ，对角线 改成True\n",
    "for i in range(l):\n",
    "    dp[i][i] = True\n",
    "    # 当k = 2 时要用到\n",
    "    dp[i][i - 1] = True\n",
    "#print(dp)\n",
    "# for i in dp:\n",
    "#     print (i)\n",
    "# \n",
    "resLeft = 0\n",
    "resRight = 0\n",
    "# 枚举子串的长度\n",
    "\n",
    "for k in range(2, l+1):\n",
    "    print (i)\n",
    "    # 字串的起始位置\n",
    "    for i in range(0, l-k+1):\n",
    "        j = i + k - 1 \n",
    "    if s[i] == s[j] and dp[i + 1][j - 1]:\n",
    "        dp[i][j] = True\n",
    "        # 保存最长的回文起点和终点\n",
    "        if resRight - resLeft +1 < k:\n",
    "            resLeft = i\n",
    "            resRight = j\n",
    "print (''.join(s[resLeft:resRight+1]))"
   ]
  },
  {
   "cell_type": "code",
   "execution_count": null,
   "metadata": {},
   "outputs": [],
   "source": []
  }
 ],
 "metadata": {
  "kernelspec": {
   "display_name": "Python 3",
   "language": "python",
   "name": "python3"
  },
  "language_info": {
   "codemirror_mode": {
    "name": "ipython",
    "version": 3
   },
   "file_extension": ".py",
   "mimetype": "text/x-python",
   "name": "python",
   "nbconvert_exporter": "python",
   "pygments_lexer": "ipython3",
   "version": "3.7.1"
  }
 },
 "nbformat": 4,
 "nbformat_minor": 2
}
