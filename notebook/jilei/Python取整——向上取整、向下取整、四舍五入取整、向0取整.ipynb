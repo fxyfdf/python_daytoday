{
 "cells": [
  {
   "cell_type": "markdown",
   "metadata": {},
   "source": [
    "M\n"
   ]
  },
  {
   "cell_type": "code",
   "execution_count": null,
   "metadata": {},
   "outputs": [],
   "source": [
    "# 1 向上取整\n",
    "import math\n",
    "# 向上取整：\n",
    "# 注意： 一般的，0.5这种末尾是5的小数，四舍五入取整应进位。\n",
    "#这个进位的意思是：-0.5 → -1；0.5 → 1.即正负情况不同，都向着远离0，使得绝对值更大的方向进位\n",
    "print(math.ceil(-0.5))\n",
    "print(math.ceil(-1.6))\n",
    "print(math.ceil(0.9))\n",
    "print(math.ceil(0.3))"
   ]
  },
  {
   "cell_type": "code",
   "execution_count": 4,
   "metadata": {},
   "outputs": [
    {
     "name": "stdout",
     "output_type": "stream",
     "text": [
      "1\n",
      "2\n",
      "2\n",
      "2\n",
      "-1\n",
      "-2\n",
      "-2\n"
     ]
    }
   ],
   "source": [
    "# 2 四舍五入：round()\n",
    "print (round(1.1))\n",
    "print (round(1.6))\n",
    "print (round(1.5))\n",
    "print (round(2.5))\n",
    "print (round(-1.1))\n",
    "print (round(-1.5))\n",
    "print (round(-2.5))\n"
   ]
  },
  {
   "cell_type": "code",
   "execution_count": 7,
   "metadata": {},
   "outputs": [
    {
     "name": "stdout",
     "output_type": "stream",
     "text": [
      "0\n",
      "-1\n",
      "1\n",
      "1\n"
     ]
    }
   ],
   "source": []
  },
  {
   "cell_type": "code",
   "execution_count": null,
   "metadata": {},
   "outputs": [],
   "source": []
  }
 ],
 "metadata": {
  "kernelspec": {
   "display_name": "Python 3",
   "language": "python",
   "name": "python3"
  },
  "language_info": {
   "codemirror_mode": {
    "name": "ipython",
    "version": 3
   },
   "file_extension": ".py",
   "mimetype": "text/x-python",
   "name": "python",
   "nbconvert_exporter": "python",
   "pygments_lexer": "ipython3",
   "version": "3.7.1"
  }
 },
 "nbformat": 4,
 "nbformat_minor": 2
}
