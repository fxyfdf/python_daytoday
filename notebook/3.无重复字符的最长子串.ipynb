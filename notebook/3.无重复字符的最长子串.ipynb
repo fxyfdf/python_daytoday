{
 "cells": [
  {
   "cell_type": "markdown",
   "metadata": {},
   "source": [
    "给定一个字符串，请你找出其中不含有重复字符的 最长子串 的长度。"
   ]
  },
  {
   "cell_type": "markdown",
   "metadata": {},
   "source": [
    "解析:\n",
    "    例1：输入“asdfasdfdsa”\n",
    "            输出： 4  asdf\n",
    "    例2：输入： “bbbb”\n",
    "         输出： 1"
   ]
  },
  {
   "cell_type": "code",
   "execution_count": 1,
   "metadata": {},
   "outputs": [
    {
     "ename": "SyntaxError",
     "evalue": "unexpected EOF while parsing (<ipython-input-1-66b3cb88c2ef>, line 6)",
     "output_type": "error",
     "traceback": [
      "\u001b[1;36m  File \u001b[1;32m\"<ipython-input-1-66b3cb88c2ef>\"\u001b[1;36m, line \u001b[1;32m6\u001b[0m\n\u001b[1;33m    \u001b[0m\n\u001b[1;37m    ^\u001b[0m\n\u001b[1;31mSyntaxError\u001b[0m\u001b[1;31m:\u001b[0m unexpected EOF while parsing\n"
     ]
    }
   ],
   "source": [
    "class Solution:\n",
    "    def lengthOfLongestSubstring(self, s: str) -> int:\n",
    "        \n",
    "        \n",
    "        \n",
    "        "
   ]
  },
  {
   "cell_type": "code",
   "execution_count": 17,
   "metadata": {},
   "outputs": [
    {
     "name": "stdout",
     "output_type": "stream",
     "text": [
      "0\n",
      "x:a\n",
      "['a']\n",
      "x:b\n",
      "['a', 'b']\n",
      "x:c\n",
      "['a', 'b', 'c']\n",
      "x:a\n",
      "3\n",
      "x:a\n",
      "3\n",
      "x:b\n",
      "['a', 'b']\n",
      "x:b\n",
      "2\n",
      "x:c\n",
      "['b', 'c']\n",
      "x:c\n",
      "2\n",
      "[3, 3, 3, 3, 2, 2, 2, 2]\n",
      "[3, 3, 3, 3, 2, 2, 2, 2, 1]\n",
      "['c']\n",
      "3\n"
     ]
    }
   ],
   "source": [
    "s=\"abcaabbcc\"\n",
    "l = []\n",
    "res = []\n",
    "print(len(l))\n",
    "for x in s:\n",
    "    print(\"x:%s\" %(x))\n",
    "    if x not in l:\n",
    "        l.append(x)\n",
    "        print(l)\n",
    "    else:\n",
    "        len_l=len(l)\n",
    "        print(len_l)\n",
    "        res.append(len_l)\n",
    "        res.append(len(l))\n",
    "        i = l.index(x)\n",
    "        l = l[i+1:]\n",
    "        l.append(x)\n",
    "print(res)   \n",
    "len_l=len(l)\n",
    "res.append(len_l)\n",
    "print(res)\n",
    "print(l)\n",
    "\n",
    "print (max(res) if res else 0)"
   ]
  },
  {
   "cell_type": "code",
   "execution_count": 51,
   "metadata": {},
   "outputs": [
    {
     "name": "stdout",
     "output_type": "stream",
     "text": [
      "3\n"
     ]
    }
   ],
   "source": [
    "#输入一个字符串\n",
    "s=\"abcaabbcc\"\n",
    "# 存储不重复的字符串\n",
    "l = []\n",
    "# 存储不重复字符串的长度\n",
    "res = []\n",
    "#print(len(l))\n",
    "# 遍历字符串\n",
    "for x in s:\n",
    "    #print(\"x:%s\" %(x))\n",
    "    if x not in l:\n",
    "        # 遍历到的字符，如果不存在就 追加到l 中\n",
    "        l.append(x)\n",
    "        #print(l)\n",
    "    else:\n",
    "        # 如果存储在，计算出现在l 的长度\n",
    "        len_l=len(l)\n",
    "        #print(len_l)\n",
    "        # 追加到 res 数组里面\n",
    "        res.append(len_l)\n",
    "        # 找出当前x 的 index 值\n",
    "        i = l.index(x)\n",
    "        # \n",
    "        l = l[i+1:]\n",
    "        l.append(x)\n",
    "#print(res)   \n",
    "len_l=len(l)\n",
    "res.append(len_l)\n",
    "#print(res)\n",
    "#print(l)\n",
    "\n",
    "print (max(res) if res else 0)\n"
   ]
  },
  {
   "cell_type": "markdown",
   "metadata": {},
   "source": [
    "提交代码"
   ]
  },
  {
   "cell_type": "code",
   "execution_count": 54,
   "metadata": {},
   "outputs": [],
   "source": [
    "class Solution:\n",
    "    def lengthOfLongestSubstring(self, s: str) -> int: \n",
    "        \n",
    "        strr = s\n",
    "        l = []\n",
    "        res = []\n",
    "        print(len(l))\n",
    "        for x in strr:\n",
    "            print(\"x:%s\" %(x))\n",
    "            if x not in l:\n",
    "                l.append(x)\n",
    "                print(l)\n",
    "            else:\n",
    "                len_l=len(l)\n",
    "                print(len_l)\n",
    "                res.append(len_l)\n",
    "                res.append(len(l))\n",
    "                i = l.index(x)\n",
    "                l = l[i+1:]\n",
    "                l.append(x)\n",
    "        print(res)   \n",
    "        len_l=len(l)\n",
    "        res.append(len_l)\n",
    "        print(res)\n",
    "        print(l)\n",
    "\n",
    "        return (max(res) if res else 0)"
   ]
  },
  {
   "cell_type": "code",
   "execution_count": 58,
   "metadata": {
    "scrolled": true
   },
   "outputs": [],
   "source": [
    "a = Solution()"
   ]
  },
  {
   "cell_type": "code",
   "execution_count": 60,
   "metadata": {},
   "outputs": [
    {
     "name": "stdout",
     "output_type": "stream",
     "text": [
      "0\n",
      "x:a\n",
      "['a']\n",
      "x:a\n",
      "1\n",
      "x:a\n",
      "1\n",
      "x:a\n",
      "1\n",
      "x:a\n",
      "1\n",
      "[1, 1, 1, 1, 1, 1, 1, 1]\n",
      "[1, 1, 1, 1, 1, 1, 1, 1, 1]\n",
      "['a']\n"
     ]
    },
    {
     "data": {
      "text/plain": [
       "1"
      ]
     },
     "execution_count": 60,
     "metadata": {},
     "output_type": "execute_result"
    }
   ],
   "source": [
    "s='aaaaa'\n",
    "a.lengthOfLongestSubstring(s)"
   ]
  },
  {
   "cell_type": "code",
   "execution_count": null,
   "metadata": {},
   "outputs": [],
   "source": []
  }
 ],
 "metadata": {
  "kernelspec": {
   "display_name": "Python 3",
   "language": "python",
   "name": "python3"
  },
  "language_info": {
   "codemirror_mode": {
    "name": "ipython",
    "version": 3
   },
   "file_extension": ".py",
   "mimetype": "text/x-python",
   "name": "python",
   "nbconvert_exporter": "python",
   "pygments_lexer": "ipython3",
   "version": "3.7.1"
  }
 },
 "nbformat": 4,
 "nbformat_minor": 2
}
