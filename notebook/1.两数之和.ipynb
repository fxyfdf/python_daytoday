{
 "cells": [
  {
   "cell_type": "code",
   "execution_count": 2,
   "metadata": {},
   "outputs": [
    {
     "name": "stdout",
     "output_type": "stream",
     "text": [
      "10 1\n",
      "10 2\n",
      "10 3\n",
      "10 4\n",
      "10 5\n",
      "10 6\n",
      "10 7\n",
      "10 8\n",
      "10 9\n",
      "10 10\n"
     ]
    },
    {
     "data": {
      "text/plain": [
       "'我错了 11'"
      ]
     },
     "execution_count": 2,
     "metadata": {},
     "output_type": "execute_result"
    }
   ],
   "source": [
    "#class Solution:\n",
    "#    def twoSum(self, nums: List[int], target: int) -> List[int]:\n",
    "\n",
    "class Solution:\n",
    "    def twoSum(self, nums, target):\n",
    "        \"\"\"\n",
    "        :type nums: List[int]\n",
    "        :type target: int\n",
    "        :rtype: List[int]\n",
    "        \"\"\"\n",
    "        sorted_id = sorted(range(len(nums)), key=lambda k: nums[k])\n",
    "        head = 0\n",
    "        tail = len(nums) - 1\n",
    "        sum_result = nums[sorted_id[head]] + nums[sorted_id[tail]]\n",
    "        while sum_result != target:\n",
    "            if sum_result > target:\n",
    "                tail -= 1\n",
    "            elif sum_result < target:\n",
    "                head += 1\n",
    "                if head > len(nums)-1:\n",
    "                    return (\"我错了 %d\" % head)\n",
    "            sum_result = nums[sorted_id[head]] + nums[sorted_id[tail]]\n",
    "            print(tail,head)\n",
    "        \n",
    "        #return [sorted_id[head], sorted_id[tail]]\n",
    "        \n",
    "aa = Solution()\n",
    "aa.twoSum([1,2,3,1,2,2,2,2,2,4,5],500)\n"
   ]
  },
  {
   "cell_type": "markdown",
   "metadata": {},
   "source": [
    "给定一个整数数组 nums 和一个目标值 target，请你在该数组中找出和为目标值的那 两个 整数，并返回他们的数组下标。\n",
    "\n",
    "你可以假设每种输入只会对应一个答案。但是，你不能重复利用这个数组中同样的元素。\n",
    "\n",
    "1 对数据进行排序，生成排序前的数组下标\n",
    "2 目标值为两个数之和:\n"
   ]
  },
  {
   "cell_type": "markdown",
   "metadata": {},
   "source": [
    "sorted(L)返回一个排序后的L，不改变原始的L；\n",
    "L.sort()是对原始的L进行操作，调用后原始的L会改变，没有返回值。【所以a = a.sort()是错的啦！a = sorted(a)才对！\n",
    "sorted()适用于任何可迭代容器，list.sort()仅支持list（本身就是list的一个方法） "
   ]
  },
  {
   "cell_type": "code",
   "execution_count": 3,
   "metadata": {},
   "outputs": [
    {
     "name": "stdout",
     "output_type": "stream",
     "text": [
      "None\n",
      "[0, 1, 2, 3, 4, 5]\n",
      "[1, 2, 3, 3, 5, 12]\n",
      "13\n",
      "[2, 4]\n"
     ]
    }
   ],
   "source": [
    "# 排序获取原有数据下标 \n",
    "\n",
    "nums=[12,3,5,2,1,3]\n",
    "print(nums.sort())\n",
    "#print (nums.index[3])\n",
    "target=8\n",
    "#                    生成数组          \n",
    "sorted_id = sorted(range(len(nums)),key=lambda k: nums[k])\n",
    "print(sorted_id)\n",
    "print(nums)\n",
    "head = 0\n",
    "tail = len(nums) - 1\n",
    "#              最小值              +   最大值\n",
    "sum_result = nums[sorted_id[head]] + nums[sorted_id[tail]]\n",
    "print (sum_result)\n",
    "while sum_result != target:\n",
    "    if sum_result > target:\n",
    "        tail -= 1\n",
    "    elif sum_result < target:\n",
    "        head += 1\n",
    "    sum_result = nums[sorted_id[head]] + nums[sorted_id[tail]]\n",
    "print( [sorted_id[head], sorted_id[tail]])\n",
    "\n"
   ]
  },
  {
   "cell_type": "code",
   "execution_count": null,
   "metadata": {},
   "outputs": [],
   "source": []
  },
  {
   "cell_type": "markdown",
   "metadata": {},
   "source": [
    "二分"
   ]
  },
  {
   "cell_type": "code",
   "execution_count": 31,
   "metadata": {},
   "outputs": [
    {
     "name": "stdout",
     "output_type": "stream",
     "text": [
      "13\n",
      "6\n",
      "7\n",
      "8\n",
      "8\n",
      "10\n",
      "2 2\n"
     ]
    }
   ],
   "source": [
    "nums = [12,3,5,2,1,3]\n",
    "nums_sort = sorted(nums)\n",
    "#print (nums_sort)\n",
    "target = 10\n",
    "head = 0\n",
    "tail = len(nums) - 1\n",
    "sum_result = nums_sort[head] + nums_sort[tail]\n",
    "print (sum_result)\n",
    "\n",
    "while sum_result != target:\n",
    "    if sum_result < target:\n",
    "        head += 1\n",
    "    elif sum_result > target:\n",
    "        tail -= 1\n",
    "    sum_result = nums_sort[head] + nums_sort[tail]\n",
    "    print (sum_result)\n",
    "print (nums.index(nums_sort[head]),nums.index(nums_sort[tail]))\n",
    "\n"
   ]
  },
  {
   "cell_type": "code",
   "execution_count": 7,
   "metadata": {},
   "outputs": [
    {
     "name": "stdout",
     "output_type": "stream",
     "text": [
      "0\n"
     ]
    }
   ],
   "source": [
    "nums=[12,3,5,2,1,3]\n",
    "aa=nums.index(12)\n",
    "print (aa)"
   ]
  },
  {
   "cell_type": "code",
   "execution_count": null,
   "metadata": {},
   "outputs": [],
   "source": []
  }
 ],
 "metadata": {
  "kernelspec": {
   "display_name": "Python 3",
   "language": "python",
   "name": "python3"
  },
  "language_info": {
   "codemirror_mode": {
    "name": "ipython",
    "version": 3
   },
   "file_extension": ".py",
   "mimetype": "text/x-python",
   "name": "python",
   "nbconvert_exporter": "python",
   "pygments_lexer": "ipython3",
   "version": "3.7.1"
  }
 },
 "nbformat": 4,
 "nbformat_minor": 2
}
