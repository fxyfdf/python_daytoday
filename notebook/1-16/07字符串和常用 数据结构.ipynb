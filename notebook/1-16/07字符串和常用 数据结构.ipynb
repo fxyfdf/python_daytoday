{
 "cells": [
  {
   "cell_type": "markdown",
   "metadata": {},
   "source": [
    "下面的代码演示了如何向列表中添加元素以及如何从列表中移除元素。\n"
   ]
  },
  {
   "cell_type": "code",
   "execution_count": 2,
   "metadata": {},
   "outputs": [
    {
     "name": "stdout",
     "output_type": "stream",
     "text": [
      "[1, 400, 3, 5, 7, 100, 200, 1000, 2000]\n",
      "9\n",
      "[1, 400, 5, 7, 100, 200, 1000, 2000]\n",
      "[400, 5, 7, 100, 200, 1000]\n",
      "[]\n"
     ]
    }
   ],
   "source": [
    "list1 = [1, 3, 5, 7, 100]\n",
    "# 添加元素\n",
    "list1.append(200)\n",
    "list1.insert(1, 400)\n",
    "# 合并两个列表\n",
    "# list1.extend([1000, 2000])\n",
    "list1 += [1000, 2000]\n",
    "print(list1) # [1, 400, 3, 5, 7, 100, 200, 1000, 2000]\n",
    "print(len(list1)) # 9\n",
    "# 先通过成员运算判断元素是否在列表中，如果存在就删除该元素\n",
    "if 3 in list1:\n",
    "\tlist1.remove(3)\n",
    "if 1234 in list1:\n",
    "    list1.remove(1234)\n",
    "print(list1) # [1, 400, 5, 7, 100, 200, 1000, 2000]\n",
    "# 从指定的位置删除元素\n",
    "list1.pop(0)\n",
    "list1.pop(len(list1) - 1)\n",
    "print(list1) # [400, 5, 7, 100, 200, 1000]\n",
    "# 清空列表元素\n",
    "list1.clear()\n",
    "print(list1) # []\n"
   ]
  },
  {
   "cell_type": "markdown",
   "metadata": {},
   "source": [
    "下面的代码实现了对列表的排序操作。"
   ]
  },
  {
   "cell_type": "code",
   "execution_count": null,
   "metadata": {},
   "outputs": [],
   "source": []
  }
 ],
 "metadata": {
  "kernelspec": {
   "display_name": "Python 3",
   "language": "python",
   "name": "python3"
  },
  "language_info": {
   "codemirror_mode": {
    "name": "ipython",
    "version": 3
   },
   "file_extension": ".py",
   "mimetype": "text/x-python",
   "name": "python",
   "nbconvert_exporter": "python",
   "pygments_lexer": "ipython3",
   "version": "3.7.1"
  }
 },
 "nbformat": 4,
 "nbformat_minor": 2
}
